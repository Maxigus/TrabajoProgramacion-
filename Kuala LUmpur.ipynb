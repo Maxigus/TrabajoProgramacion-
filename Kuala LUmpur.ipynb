{
 "cells": [
  {
   "cell_type": "code",
   "execution_count": 11,
   "id": "ce10dd14",
   "metadata": {},
   "outputs": [
    {
     "name": "stdout",
     "output_type": "stream",
     "text": [
      "¿Cual es la capital de MalasiaKuala Lumpur\n"
     ]
    },
    {
     "data": {
      "text/plain": [
       "'Ganaste'"
      ]
     },
     "execution_count": 11,
     "metadata": {},
     "output_type": "execute_result"
    }
   ],
   "source": [
    "def pregunta():\n",
    "    tenga_vidas=3 \n",
    "    while(tenga_vidas>0): #las vidas se establecen en el while porque dan límite. Vos antes hiciste que un lop porque fue un false siempre\n",
    "        respuesta= input(\"¿Cual es la capital de Malasia\")\n",
    "        if (respuesta.lower()== \"kuala lumpur\"):      # el while lleva puntitos\n",
    "            return \"Ganaste\" #el return es para que corte el loop\n",
    "        if respuesta.lower()!=\"kuala lumpur\": #poné los tabs :v\n",
    "            tenga_vidas=tenga_vidas-1 \n",
    "        if tenga_vidas==0:\n",
    "            return \"Perdiste\"\n",
    "pregunta()\n",
    "        \n"
   ]
  },
  {
   "cell_type": "code",
   "execution_count": 23,
   "id": "512a999a",
   "metadata": {},
   "outputs": [
    {
     "name": "stdout",
     "output_type": "stream",
     "text": [
      "¿Cual es tu color favorito?azul\n"
     ]
    },
    {
     "data": {
      "text/plain": [
       "True"
      ]
     },
     "execution_count": 23,
     "metadata": {},
     "output_type": "execute_result"
    }
   ],
   "source": [
    "def adivina_color_favorito():\n",
    "    color_favorito= input(\"¿Cual es tu color favorito?\")\n",
    "    if (color_favorito== \"azul\"):\n",
    "        return True\n",
    "    else:\n",
    "        return False\n",
    "adivina_color_favorito()"
   ]
  },
  {
   "cell_type": "code",
   "execution_count": 26,
   "id": "61585a6c",
   "metadata": {},
   "outputs": [
    {
     "data": {
      "text/plain": [
       "11"
      ]
     },
     "execution_count": 26,
     "metadata": {},
     "output_type": "execute_result"
    }
   ],
   "source": [
    "def anterior_del_triple(numero):\n",
    "  return((3*numero)-1)\n",
    "anterior_del_triple(4)"
   ]
  }
 ],
 "metadata": {
  "kernelspec": {
   "display_name": "Python 3 (ipykernel)",
   "language": "python",
   "name": "python3"
  },
  "language_info": {
   "codemirror_mode": {
    "name": "ipython",
    "version": 3
   },
   "file_extension": ".py",
   "mimetype": "text/x-python",
   "name": "python",
   "nbconvert_exporter": "python",
   "pygments_lexer": "ipython3",
   "version": "3.8.5"
  }
 },
 "nbformat": 4,
 "nbformat_minor": 5
}
