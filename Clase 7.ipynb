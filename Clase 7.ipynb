{
 "cells": [
  {
   "cell_type": "code",
   "execution_count": 7,
   "id": "c83ba542",
   "metadata": {},
   "outputs": [
    {
     "name": "stdout",
     "output_type": "stream",
     "text": [
      "Hola Carlos\n",
      "Hola Juan\n",
      "Hola Pedro\n"
     ]
    }
   ],
   "source": [
    "x=[\"Carlos\", \"Juan\", \"Pedro\"]\n",
    "def funcion():\n",
    "    for elemento in x:\n",
    "        print(\"Hola\", elemento)\n",
    "funcion()"
   ]
  },
  {
   "cell_type": "code",
   "execution_count": null,
   "id": "4f68a09b",
   "metadata": {},
   "outputs": [
    {
     "name": "stdout",
     "output_type": "stream",
     "text": [
      "[1, 2, 3.1, 1, 2, 3]\n"
     ]
    }
   ],
   "source": [
    "def funcion(lista):\n",
    "    for elemento in lista:\n",
    "        if type(elemento)==int:\n",
    "            lista.append(elemento)\n",
    "        else:\n",
    "            lista.append(int(elemento))\n",
    "            print(lista)\n",
    "funcion([1,2,3.1])"
   ]
  },
  {
   "cell_type": "code",
   "execution_count": null,
   "id": "cf7b73f8",
   "metadata": {},
   "outputs": [],
   "source": []
  }
 ],
 "metadata": {
  "kernelspec": {
   "display_name": "Python 3 (ipykernel)",
   "language": "python",
   "name": "python3"
  },
  "language_info": {
   "codemirror_mode": {
    "name": "ipython",
    "version": 3
   },
   "file_extension": ".py",
   "mimetype": "text/x-python",
   "name": "python",
   "nbconvert_exporter": "python",
   "pygments_lexer": "ipython3",
   "version": "3.8.5"
  }
 },
 "nbformat": 4,
 "nbformat_minor": 5
}
