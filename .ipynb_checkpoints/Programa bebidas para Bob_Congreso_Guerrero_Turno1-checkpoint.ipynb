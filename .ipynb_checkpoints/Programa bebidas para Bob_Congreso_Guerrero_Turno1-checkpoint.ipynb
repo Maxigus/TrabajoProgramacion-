{
 "cells": [
  {
   "cell_type": "code",
   "execution_count": 20,
   "id": "35f4990a",
   "metadata": {},
   "outputs": [
    {
     "name": "stdout",
     "output_type": "stream",
     "text": [
      "¿Cual es tu edad?12\n",
      "podes comprar: ['Coca-Cola', 'Cola-Cola Light', 'Sprite', 'Sprite Zero', 'Fanta', 'Pepsi', 'Pepsi Max', '7UP', 'Mirinda', 'Schweppes', 'Crush', 'Evian']\n"
     ]
    }
   ],
   "source": [
    "def funcion():\n",
    "    bebidas= [\"Coca-Cola\", \"Cola-Cola Light\", \"Sprite\", \"Bombay\", \"Sprite Zero\", \"Chivas\", \"Jack Daniels\", \"Fanta\", \"Beefeater\", \"Pepsi\", \"Pepsi Max\", \"7UP\", \"Mirinda\", \"Schweppes\", \"Crush\", \"Dr Pepper\", \"Evian\"]\n",
    "    edad=int(input(\"¿Cual es tu edad?\"))\n",
    "    if edad<18:\n",
    "        bebidas.remove(\"Jack Daniels\")\n",
    "        bebidas.remove(\"Bombay\")\n",
    "        bebidas.remove(\"Beefeater\")\n",
    "        bebidas.remove(\"Chivas\")\n",
    "        bebidas.remove(\"Dr Pepper\")\n",
    "        print(\"podes comprar:\", bebidas)\n",
    "    else:\n",
    "        print(\"Te encuentras apto para beber:\", bebidas)\n",
    "\n",
    "funcion()\n",
    "        \n",
    "    "
   ]
  }
 ],
 "metadata": {
  "kernelspec": {
   "display_name": "Python 3 (ipykernel)",
   "language": "python",
   "name": "python3"
  },
  "language_info": {
   "codemirror_mode": {
    "name": "ipython",
    "version": 3
   },
   "file_extension": ".py",
   "mimetype": "text/x-python",
   "name": "python",
   "nbconvert_exporter": "python",
   "pygments_lexer": "ipython3",
   "version": "3.8.5"
  }
 },
 "nbformat": 4,
 "nbformat_minor": 5
}
