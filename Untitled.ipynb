{
 "cells": [
  {
   "cell_type": "code",
   "execution_count": null,
   "id": "e8a94eed",
   "metadata": {},
   "outputs": [],
   "source": [
    "lista=[\"Coca-Cola\", \"Cola-Cola Light\", \"Sprite\", \"Bombay\", \"Sprite Zero\", \"Chivas\", \"Jack Daniels\", \"Fanta\", \"Beefeater\", \"Pepsi\", \"Pepsi Max\", \"7UP\", \"Mirinda\", \"Schweppes\", \"Crush\", \"Dr Pepper\", \"Evian\"]\n",
    "def funcion(bebidas):\n",
    "    nombre=input(\"Nombre:\")\n",
    "    if nombre== \"Bob\":\n",
    "        contrasena= int(input(\"Contraseña: \"))\n",
    "        if contrasena== 1234:\n",
    "            producto=input(\"¿Qué queres agregar?\")\n",
    "            bebidas.append(producto)\n",
    "            print(bebidas)\n",
    "        else:\n",
    "            print(\"No eres Bob\")\n",
    "    else:\n",
    "        edad=int(input(\"¿Cual es tu edad?\"))\n",
    "        if edad<21: \n",
    "            bebidas.remove(\"Bombay\")\n",
    "            bebidas.remove(\"Beefeater\")\n",
    "            bebidas.remove(\"Chivas\")\n",
    "            bebidas.remove(\"Dr Pepper\")\n",
    "            print(\"podes comprar:\", bebidas)\n",
    "        else:\n",
    "            print(\"Te encuentras apto para beber:\", bebidas)\n",
    "funcion(lista)"
   ]
  },
  {
   "cell_type": "code",
   "execution_count": null,
   "id": "c332427a",
   "metadata": {},
   "outputs": [],
   "source": []
  }
 ],
 "metadata": {
  "kernelspec": {
   "display_name": "Python 3 (ipykernel)",
   "language": "python",
   "name": "python3"
  },
  "language_info": {
   "codemirror_mode": {
    "name": "ipython",
    "version": 3
   },
   "file_extension": ".py",
   "mimetype": "text/x-python",
   "name": "python",
   "nbconvert_exporter": "python",
   "pygments_lexer": "ipython3",
   "version": "3.8.5"
  }
 },
 "nbformat": 4,
 "nbformat_minor": 5
}
